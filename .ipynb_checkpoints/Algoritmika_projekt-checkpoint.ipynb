{
 "cells": [
  {
   "cell_type": "code",
   "execution_count": 1,
   "metadata": {},
   "outputs": [],
   "source": [
    "import random\n",
    "import sys\n",
    "import math\n",
    "import time\n",
    "from Image import Image\n",
    "import numpy as np\n",
    "import cv2"
   ]
  },
  {
   "cell_type": "code",
   "execution_count": 18,
   "metadata": {},
   "outputs": [],
   "source": [
    "def createIndividual():\n",
    "    arr = np.zeros((128, 128, 3), np.uint8)\n",
    "    arr[:,:] = (255,255,255)\n",
    "    individual = Image(arr, 50)\n",
    "    return individual\n",
    "\n",
    "def createPopulation(n):\n",
    "    population = []\n",
    "    for i in range(n):\n",
    "        individual = createIndividual()\n",
    "        population.append(individual)\n",
    "    return population"
   ]
  },
  {
   "cell_type": "code",
   "execution_count": 11,
   "metadata": {},
   "outputs": [],
   "source": [
    "def fitnessScore(individual, originalImage):\n",
    "    return 1 / individual.differenceFrom(originalImage)"
   ]
  },
  {
   "cell_type": "code",
   "execution_count": 12,
   "metadata": {},
   "outputs": [],
   "source": [
    "def fitnessSum(population, originalImage):\n",
    "    fitnessSum = 0\n",
    "    for i in population:\n",
    "        fitnessSum += fitnessScore(i, originalImage)\n",
    "    return fitnessSum\n",
    "\n",
    "def bestIndividual(population, originalImage):\n",
    "    bestIndividual = None\n",
    "    bestScore = 0\n",
    "    for i in population:\n",
    "        fitness = fitnessScore(i, originalImage)\n",
    "        if fitness > bestScore:\n",
    "            bestIndividual = i\n",
    "            bestScore = fitness\n",
    "    print(\"Best individual's fitness score: \" , bestScore)\n",
    "    return bestIndividual\n",
    "\n",
    "def rouletteSelection(population, originalImage):\n",
    "    fitSum = fitnessSum(population, originalImage)\n",
    "    s = random.random()\n",
    "    probSum = 0\n",
    "    for idx, i in enumerate(population):\n",
    "        probSum += (fitnessScore(i, originalImage)/fitSum)\n",
    "        if probSum > s:\n",
    "            return i"
   ]
  },
  {
   "cell_type": "code",
   "execution_count": 23,
   "metadata": {},
   "outputs": [],
   "source": [
    "def mutateIndividual(individual, originalImage):\n",
    "    mutated = individual.createMutatedChild()\n",
    "    return mutated\n",
    "\n",
    "def mutatePopulation(population, mutationRate, originalImage):\n",
    "    mutatedPopulation = []\n",
    "    for i in population:\n",
    "        chance = random.random()\n",
    "        if chance < mutationRate or len(population) == 1:\n",
    "            #print(\"yes mutation\")\n",
    "            fitnessBefore = fitnessScore(i, originalImage)\n",
    "            #print(fitnessBefore)\n",
    "            mutatedIndividual = mutateIndividual(i, originalImage)\n",
    "            fitnessAfter = fitnessScore(mutatedIndividual, originalImage)\n",
    "            #print(fitnessAfter)\n",
    "            if len(population) == 1:\n",
    "                if fitnessAfter > fitnessBefore:\n",
    "                    mutatedPopulation.append(mutatedIndividual)\n",
    "                else:\n",
    "                    #print(\"wont be taking this\")\n",
    "                    mutatedPopulation.append(i)\n",
    "            else:\n",
    "                mutatedPopulation.append(mutatedIndividual)\n",
    "        else:\n",
    "            mutatedPopulation.append(i)\n",
    "    return mutatedPopulation\n",
    "        \n",
    "    \n",
    "def populateNewPopulation(population, originalImage):\n",
    "    if (len(population) <= 1):\n",
    "        return population\n",
    "    #print(\"creating new population\")\n",
    "    newPopulation = []\n",
    "    for i in range(len(population)):\n",
    "        parent1 = rouletteSelection(population, originalImage)\n",
    "        parent2 = rouletteSelection(population, originalImage)\n",
    "        child = parent1.createChild(parent2)\n",
    "        newPopulation.append(child)\n",
    "    return newPopulation\n",
    "        "
   ]
  },
  {
   "cell_type": "code",
   "execution_count": 16,
   "metadata": {},
   "outputs": [],
   "source": [
    "def startAlgo():\n",
    "    mutationRate = 0.1\n",
    "    #population = createPopulation(1)\n",
    "    #originalImage = Image(cv2.imread(\"ikoon.png\"), 0)\n",
    "    \n",
    "    arr = np.zeros((30,30,3))\n",
    "    arr[:,:] = (255,255,255)\n",
    "    originalImage = Image(arr, 10)\n",
    "    cv2.imwrite('original.png',originalImage.image_w_polygons)\n",
    "\n",
    "    img1 = Image(arr, 10)\n",
    "    img2 = Image(arr, 10)\n",
    "    img3 = Image(arr, 10)\n",
    "    img4 = Image(arr, 10)\n",
    "    img5 = Image(arr, 10)\n",
    "    img6 = Image(arr, 10)\n",
    "    img7 = Image(arr, 10)\n",
    "    population = [img1, img2, img3, img4, img5, img6, img7]\n",
    "    \n",
    "    \n",
    "    for i in range(100):\n",
    "        population = mutatePopulation(population, mutationRate, originalImage)\n",
    "        population = populateNewPopulation(population, originalImage)\n",
    "        \n",
    "        if (i % 10 == 0):\n",
    "            print(\"gen \" , i)\n",
    "            best = bestIndividual(population, originalImage)\n",
    "            cv2.imwrite(\"best\"+str(i)+\".png\", best.image_w_polygons)"
   ]
  },
  {
   "cell_type": "code",
   "execution_count": null,
   "metadata": {
    "scrolled": true
   },
   "outputs": [],
   "source": [
    "startAlgo()"
   ]
  },
  {
   "cell_type": "code",
   "execution_count": 24,
   "metadata": {},
   "outputs": [
    {
     "name": "stdout",
     "output_type": "stream",
     "text": [
      "new loop:  2\n"
     ]
    },
    {
     "ename": "KeyboardInterrupt",
     "evalue": "",
     "output_type": "error",
     "traceback": [
      "\u001b[1;31m---------------------------------------------------------------------------\u001b[0m",
      "\u001b[1;31mKeyboardInterrupt\u001b[0m                         Traceback (most recent call last)",
      "\u001b[1;32m<ipython-input-24-329b874ccd3c>\u001b[0m in \u001b[0;36m<module>\u001b[1;34m\u001b[0m\n\u001b[0;32m      9\u001b[0m     \u001b[1;32mfor\u001b[0m \u001b[0mi\u001b[0m \u001b[1;32min\u001b[0m \u001b[0mrange\u001b[0m\u001b[1;33m(\u001b[0m\u001b[1;36m100\u001b[0m\u001b[1;33m)\u001b[0m\u001b[1;33m:\u001b[0m\u001b[1;33m\u001b[0m\u001b[1;33m\u001b[0m\u001b[0m\n\u001b[0;32m     10\u001b[0m         \u001b[0mpopulation\u001b[0m \u001b[1;33m=\u001b[0m \u001b[0mmutatePopulation\u001b[0m\u001b[1;33m(\u001b[0m\u001b[0mpopulation\u001b[0m\u001b[1;33m,\u001b[0m \u001b[0mmutationRate\u001b[0m\u001b[1;33m,\u001b[0m \u001b[0moriginalImage\u001b[0m\u001b[1;33m)\u001b[0m\u001b[1;33m\u001b[0m\u001b[1;33m\u001b[0m\u001b[0m\n\u001b[1;32m---> 11\u001b[1;33m         \u001b[0mpopulation\u001b[0m \u001b[1;33m=\u001b[0m \u001b[0mpopulateNewPopulation\u001b[0m\u001b[1;33m(\u001b[0m\u001b[0mpopulation\u001b[0m\u001b[1;33m,\u001b[0m \u001b[0moriginalImage\u001b[0m\u001b[1;33m)\u001b[0m\u001b[1;33m\u001b[0m\u001b[1;33m\u001b[0m\u001b[0m\n\u001b[0m\u001b[0;32m     12\u001b[0m     \u001b[0mend\u001b[0m \u001b[1;33m=\u001b[0m \u001b[0mtime\u001b[0m\u001b[1;33m.\u001b[0m\u001b[0mtime\u001b[0m\u001b[1;33m(\u001b[0m\u001b[1;33m)\u001b[0m\u001b[1;33m\u001b[0m\u001b[1;33m\u001b[0m\u001b[0m\n\u001b[0;32m     13\u001b[0m     \u001b[0mtimes\u001b[0m\u001b[1;33m.\u001b[0m\u001b[0mappend\u001b[0m\u001b[1;33m(\u001b[0m\u001b[0mend\u001b[0m\u001b[1;33m-\u001b[0m\u001b[0mstart\u001b[0m\u001b[1;33m)\u001b[0m\u001b[1;33m\u001b[0m\u001b[1;33m\u001b[0m\u001b[0m\n",
      "\u001b[1;32m<ipython-input-23-4beab072acb9>\u001b[0m in \u001b[0;36mpopulateNewPopulation\u001b[1;34m(population, originalImage)\u001b[0m\n\u001b[0;32m     33\u001b[0m     \u001b[0mnewPopulation\u001b[0m \u001b[1;33m=\u001b[0m \u001b[1;33m[\u001b[0m\u001b[1;33m]\u001b[0m\u001b[1;33m\u001b[0m\u001b[1;33m\u001b[0m\u001b[0m\n\u001b[0;32m     34\u001b[0m     \u001b[1;32mfor\u001b[0m \u001b[0mi\u001b[0m \u001b[1;32min\u001b[0m \u001b[0mrange\u001b[0m\u001b[1;33m(\u001b[0m\u001b[0mlen\u001b[0m\u001b[1;33m(\u001b[0m\u001b[0mpopulation\u001b[0m\u001b[1;33m)\u001b[0m\u001b[1;33m)\u001b[0m\u001b[1;33m:\u001b[0m\u001b[1;33m\u001b[0m\u001b[1;33m\u001b[0m\u001b[0m\n\u001b[1;32m---> 35\u001b[1;33m         \u001b[0mparent1\u001b[0m \u001b[1;33m=\u001b[0m \u001b[0mrouletteSelection\u001b[0m\u001b[1;33m(\u001b[0m\u001b[0mpopulation\u001b[0m\u001b[1;33m,\u001b[0m \u001b[0moriginalImage\u001b[0m\u001b[1;33m)\u001b[0m\u001b[1;33m\u001b[0m\u001b[1;33m\u001b[0m\u001b[0m\n\u001b[0m\u001b[0;32m     36\u001b[0m         \u001b[0mparent2\u001b[0m \u001b[1;33m=\u001b[0m \u001b[0mrouletteSelection\u001b[0m\u001b[1;33m(\u001b[0m\u001b[0mpopulation\u001b[0m\u001b[1;33m,\u001b[0m \u001b[0moriginalImage\u001b[0m\u001b[1;33m)\u001b[0m\u001b[1;33m\u001b[0m\u001b[1;33m\u001b[0m\u001b[0m\n\u001b[0;32m     37\u001b[0m         \u001b[0mchild\u001b[0m \u001b[1;33m=\u001b[0m \u001b[0mparent1\u001b[0m\u001b[1;33m.\u001b[0m\u001b[0mcreateChild\u001b[0m\u001b[1;33m(\u001b[0m\u001b[0mparent2\u001b[0m\u001b[1;33m)\u001b[0m\u001b[1;33m\u001b[0m\u001b[1;33m\u001b[0m\u001b[0m\n",
      "\u001b[1;32m<ipython-input-12-e1d5f8705f8e>\u001b[0m in \u001b[0;36mrouletteSelection\u001b[1;34m(population, originalImage)\u001b[0m\n\u001b[0;32m     21\u001b[0m     \u001b[0mprobSum\u001b[0m \u001b[1;33m=\u001b[0m \u001b[1;36m0\u001b[0m\u001b[1;33m\u001b[0m\u001b[1;33m\u001b[0m\u001b[0m\n\u001b[0;32m     22\u001b[0m     \u001b[1;32mfor\u001b[0m \u001b[0midx\u001b[0m\u001b[1;33m,\u001b[0m \u001b[0mi\u001b[0m \u001b[1;32min\u001b[0m \u001b[0menumerate\u001b[0m\u001b[1;33m(\u001b[0m\u001b[0mpopulation\u001b[0m\u001b[1;33m)\u001b[0m\u001b[1;33m:\u001b[0m\u001b[1;33m\u001b[0m\u001b[1;33m\u001b[0m\u001b[0m\n\u001b[1;32m---> 23\u001b[1;33m         \u001b[0mprobSum\u001b[0m \u001b[1;33m+=\u001b[0m \u001b[1;33m(\u001b[0m\u001b[0mfitnessScore\u001b[0m\u001b[1;33m(\u001b[0m\u001b[0mi\u001b[0m\u001b[1;33m,\u001b[0m \u001b[0moriginalImage\u001b[0m\u001b[1;33m)\u001b[0m\u001b[1;33m/\u001b[0m\u001b[0mfitSum\u001b[0m\u001b[1;33m)\u001b[0m\u001b[1;33m\u001b[0m\u001b[1;33m\u001b[0m\u001b[0m\n\u001b[0m\u001b[0;32m     24\u001b[0m         \u001b[1;32mif\u001b[0m \u001b[0mprobSum\u001b[0m \u001b[1;33m>\u001b[0m \u001b[0ms\u001b[0m\u001b[1;33m:\u001b[0m\u001b[1;33m\u001b[0m\u001b[1;33m\u001b[0m\u001b[0m\n\u001b[0;32m     25\u001b[0m             \u001b[1;32mreturn\u001b[0m \u001b[0mi\u001b[0m\u001b[1;33m\u001b[0m\u001b[1;33m\u001b[0m\u001b[0m\n",
      "\u001b[1;32m<ipython-input-11-be1744dce90b>\u001b[0m in \u001b[0;36mfitnessScore\u001b[1;34m(individual, originalImage)\u001b[0m\n\u001b[0;32m      1\u001b[0m \u001b[1;32mdef\u001b[0m \u001b[0mfitnessScore\u001b[0m\u001b[1;33m(\u001b[0m\u001b[0mindividual\u001b[0m\u001b[1;33m,\u001b[0m \u001b[0moriginalImage\u001b[0m\u001b[1;33m)\u001b[0m\u001b[1;33m:\u001b[0m\u001b[1;33m\u001b[0m\u001b[1;33m\u001b[0m\u001b[0m\n\u001b[1;32m----> 2\u001b[1;33m     \u001b[1;32mreturn\u001b[0m \u001b[1;36m1\u001b[0m \u001b[1;33m/\u001b[0m \u001b[0mindividual\u001b[0m\u001b[1;33m.\u001b[0m\u001b[0mdifferenceFrom\u001b[0m\u001b[1;33m(\u001b[0m\u001b[0moriginalImage\u001b[0m\u001b[1;33m)\u001b[0m\u001b[1;33m\u001b[0m\u001b[1;33m\u001b[0m\u001b[0m\n\u001b[0m",
      "\u001b[1;32m~\\Kool\\projekt\\Image.py\u001b[0m in \u001b[0;36mdifferenceFrom\u001b[1;34m(self, otherImage)\u001b[0m\n\u001b[0;32m     32\u001b[0m                 \u001b[0motherImagePixel\u001b[0m \u001b[1;33m=\u001b[0m \u001b[0motherImage\u001b[0m\u001b[1;33m.\u001b[0m\u001b[0mimage_w_polygons\u001b[0m\u001b[1;33m[\u001b[0m\u001b[0mrow_idx\u001b[0m\u001b[1;33m]\u001b[0m\u001b[1;33m[\u001b[0m\u001b[0mpixel_idx\u001b[0m\u001b[1;33m]\u001b[0m\u001b[1;33m\u001b[0m\u001b[1;33m\u001b[0m\u001b[0m\n\u001b[0;32m     33\u001b[0m \u001b[1;33m\u001b[0m\u001b[0m\n\u001b[1;32m---> 34\u001b[1;33m                 \u001b[0mtotal_rmse\u001b[0m \u001b[1;33m+=\u001b[0m \u001b[0mnp\u001b[0m\u001b[1;33m.\u001b[0m\u001b[0msqrt\u001b[0m\u001b[1;33m(\u001b[0m\u001b[0mnp\u001b[0m\u001b[1;33m.\u001b[0m\u001b[0mmean\u001b[0m\u001b[1;33m(\u001b[0m\u001b[1;33m(\u001b[0m\u001b[0mthisImagePixel\u001b[0m\u001b[1;33m-\u001b[0m\u001b[0motherImagePixel\u001b[0m\u001b[1;33m)\u001b[0m\u001b[1;33m**\u001b[0m\u001b[1;36m2\u001b[0m\u001b[1;33m)\u001b[0m\u001b[1;33m)\u001b[0m\u001b[1;33m\u001b[0m\u001b[1;33m\u001b[0m\u001b[0m\n\u001b[0m\u001b[0;32m     35\u001b[0m \u001b[1;33m\u001b[0m\u001b[0m\n\u001b[0;32m     36\u001b[0m         \u001b[1;32mreturn\u001b[0m \u001b[0mtotal_rmse\u001b[0m\u001b[1;33m\u001b[0m\u001b[1;33m\u001b[0m\u001b[0m\n",
      "\u001b[1;32m~\\Anaconda3\\lib\\site-packages\\numpy\\core\\fromnumeric.py\u001b[0m in \u001b[0;36mmean\u001b[1;34m(a, axis, dtype, out, keepdims)\u001b[0m\n\u001b[0;32m   3116\u001b[0m \u001b[1;33m\u001b[0m\u001b[0m\n\u001b[0;32m   3117\u001b[0m     return _methods._mean(a, axis=axis, dtype=dtype,\n\u001b[1;32m-> 3118\u001b[1;33m                           out=out, **kwargs)\n\u001b[0m\u001b[0;32m   3119\u001b[0m \u001b[1;33m\u001b[0m\u001b[0m\n\u001b[0;32m   3120\u001b[0m \u001b[1;33m\u001b[0m\u001b[0m\n",
      "\u001b[1;32m~\\Anaconda3\\lib\\site-packages\\numpy\\core\\_methods.py\u001b[0m in \u001b[0;36m_mean\u001b[1;34m(a, axis, dtype, out, keepdims)\u001b[0m\n\u001b[0;32m     79\u001b[0m         \u001b[1;32mif\u001b[0m \u001b[0mis_float16_result\u001b[0m \u001b[1;32mand\u001b[0m \u001b[0mout\u001b[0m \u001b[1;32mis\u001b[0m \u001b[1;32mNone\u001b[0m\u001b[1;33m:\u001b[0m\u001b[1;33m\u001b[0m\u001b[1;33m\u001b[0m\u001b[0m\n\u001b[0;32m     80\u001b[0m             \u001b[0mret\u001b[0m \u001b[1;33m=\u001b[0m \u001b[0marr\u001b[0m\u001b[1;33m.\u001b[0m\u001b[0mdtype\u001b[0m\u001b[1;33m.\u001b[0m\u001b[0mtype\u001b[0m\u001b[1;33m(\u001b[0m\u001b[0mret\u001b[0m\u001b[1;33m)\u001b[0m\u001b[1;33m\u001b[0m\u001b[1;33m\u001b[0m\u001b[0m\n\u001b[1;32m---> 81\u001b[1;33m     \u001b[1;32melif\u001b[0m \u001b[0mhasattr\u001b[0m\u001b[1;33m(\u001b[0m\u001b[0mret\u001b[0m\u001b[1;33m,\u001b[0m \u001b[1;34m'dtype'\u001b[0m\u001b[1;33m)\u001b[0m\u001b[1;33m:\u001b[0m\u001b[1;33m\u001b[0m\u001b[1;33m\u001b[0m\u001b[0m\n\u001b[0m\u001b[0;32m     82\u001b[0m         \u001b[1;32mif\u001b[0m \u001b[0mis_float16_result\u001b[0m\u001b[1;33m:\u001b[0m\u001b[1;33m\u001b[0m\u001b[1;33m\u001b[0m\u001b[0m\n\u001b[0;32m     83\u001b[0m             \u001b[0mret\u001b[0m \u001b[1;33m=\u001b[0m \u001b[0marr\u001b[0m\u001b[1;33m.\u001b[0m\u001b[0mdtype\u001b[0m\u001b[1;33m.\u001b[0m\u001b[0mtype\u001b[0m\u001b[1;33m(\u001b[0m\u001b[0mret\u001b[0m \u001b[1;33m/\u001b[0m \u001b[0mrcount\u001b[0m\u001b[1;33m)\u001b[0m\u001b[1;33m\u001b[0m\u001b[1;33m\u001b[0m\u001b[0m\n",
      "\u001b[1;31mKeyboardInterrupt\u001b[0m: "
     ]
    }
   ],
   "source": [
    "mutationRate = 0.1\n",
    "originalImage = Image(cv2.imread(\"ikoon.png\"), 0)\n",
    "times = []\n",
    "\n",
    "for i in [2,5,10,20,50,100]:\n",
    "    print(\"new loop: \", i)\n",
    "    start = time.time()\n",
    "    population = createPopulation(i)\n",
    "    for i in range(100):\n",
    "        population = mutatePopulation(population, mutationRate, originalImage)\n",
    "        population = populateNewPopulation(population, originalImage)\n",
    "    end = time.time()\n",
    "    times.append(end-start)\n",
    "    f = open(\"times.txt\", \"a\")\n",
    "    f.write(str(end-start))\n",
    "    f.close()\n"
   ]
  },
  {
   "cell_type": "code",
   "execution_count": 21,
   "metadata": {},
   "outputs": [
    {
     "name": "stdout",
     "output_type": "stream",
     "text": [
      "[182.55778050422668]\n"
     ]
    }
   ],
   "source": [
    "print(times)"
   ]
  },
  {
   "cell_type": "code",
   "execution_count": null,
   "metadata": {},
   "outputs": [],
   "source": []
  }
 ],
 "metadata": {
  "kernelspec": {
   "display_name": "Python 3",
   "language": "python",
   "name": "python3"
  },
  "language_info": {
   "codemirror_mode": {
    "name": "ipython",
    "version": 3
   },
   "file_extension": ".py",
   "mimetype": "text/x-python",
   "name": "python",
   "nbconvert_exporter": "python",
   "pygments_lexer": "ipython3",
   "version": "3.7.3"
  }
 },
 "nbformat": 4,
 "nbformat_minor": 2
}
